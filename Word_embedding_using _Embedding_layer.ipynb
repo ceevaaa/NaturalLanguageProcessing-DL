{
 "cells": [
  {
   "cell_type": "code",
   "execution_count": 1,
   "metadata": {},
   "outputs": [
    {
     "name": "stderr",
     "output_type": "stream",
     "text": [
      "Using TensorFlow backend.\n"
     ]
    }
   ],
   "source": [
    "import numpy as np\n",
    "from keras.datasets import imdb\n",
    "from keras import preprocessing\n",
    "from keras.models import Sequential\n",
    "from keras.layers import Flatten, Dense, Embedding"
   ]
  },
  {
   "cell_type": "code",
   "execution_count": 2,
   "metadata": {},
   "outputs": [],
   "source": [
    "max_features = 10000\n",
    "maxlen = 20\n",
    "(x_train, y_train), (x_test, y_test) = imdb.load_data(num_words=max_features)\n",
    "\n",
    "x_train = preprocessing.sequence.pad_sequences(x_train, maxlen=maxlen)\n",
    "x_test = preprocessing.sequence.pad_sequences(x_test, maxlen=maxlen)"
   ]
  },
  {
   "cell_type": "code",
   "execution_count": 3,
   "metadata": {},
   "outputs": [
    {
     "name": "stdout",
     "output_type": "stream",
     "text": [
      "WARNING:tensorflow:From c:\\users\\ceeva\\appdata\\local\\programs\\python\\python37\\lib\\site-packages\\tensorflow_core\\python\\ops\\resource_variable_ops.py:1630: calling BaseResourceVariable.__init__ (from tensorflow.python.ops.resource_variable_ops) with constraint is deprecated and will be removed in a future version.\n",
      "Instructions for updating:\n",
      "If using Keras pass *_constraint arguments to layers.\n",
      "WARNING:tensorflow:From c:\\users\\ceeva\\appdata\\local\\programs\\python\\python37\\lib\\site-packages\\tensorflow_core\\python\\ops\\nn_impl.py:183: where (from tensorflow.python.ops.array_ops) is deprecated and will be removed in a future version.\n",
      "Instructions for updating:\n",
      "Use tf.where in 2.0, which has the same broadcast rule as np.where\n",
      "Model: \"sequential_1\"\n",
      "_________________________________________________________________\n",
      "Layer (type)                 Output Shape              Param #   \n",
      "=================================================================\n",
      "embedding_1 (Embedding)      (None, 20, 8)             80000     \n",
      "_________________________________________________________________\n",
      "flatten_1 (Flatten)          (None, 160)               0         \n",
      "_________________________________________________________________\n",
      "dense_1 (Dense)              (None, 1)                 161       \n",
      "=================================================================\n",
      "Total params: 80,161\n",
      "Trainable params: 80,161\n",
      "Non-trainable params: 0\n",
      "_________________________________________________________________\n"
     ]
    }
   ],
   "source": [
    "model = Sequential()\n",
    "model.add(Embedding(10000, 8, input_length=maxlen))\n",
    "model.add(Flatten())\n",
    "model.add(Dense(1, activation='sigmoid'))\n",
    "model.compile(optimizer='rmsprop',\n",
    "              loss='binary_crossentropy', \n",
    "              metrics=['acc'])\n",
    "model.summary()"
   ]
  },
  {
   "cell_type": "code",
   "execution_count": 4,
   "metadata": {},
   "outputs": [
    {
     "name": "stdout",
     "output_type": "stream",
     "text": [
      "WARNING:tensorflow:From c:\\users\\ceeva\\appdata\\local\\programs\\python\\python37\\lib\\site-packages\\keras\\backend\\tensorflow_backend.py:422: The name tf.global_variables is deprecated. Please use tf.compat.v1.global_variables instead.\n",
      "\n",
      "Train on 20000 samples, validate on 5000 samples\n",
      "Epoch 1/10\n",
      "20000/20000 [==============================] - 1s 40us/step - loss: 0.6635 - acc: 0.6372 - val_loss: 0.6091 - val_acc: 0.6964\n",
      "Epoch 2/10\n",
      "20000/20000 [==============================] - 1s 37us/step - loss: 0.5352 - acc: 0.7526 - val_loss: 0.5251 - val_acc: 0.7294\n",
      "Epoch 3/10\n",
      "20000/20000 [==============================] - 1s 35us/step - loss: 0.4612 - acc: 0.7867 - val_loss: 0.5002 - val_acc: 0.7508\n",
      "Epoch 4/10\n",
      "20000/20000 [==============================] - 1s 34us/step - loss: 0.4241 - acc: 0.8058 - val_loss: 0.4944 - val_acc: 0.7536\n",
      "Epoch 5/10\n",
      "20000/20000 [==============================] - 1s 34us/step - loss: 0.3980 - acc: 0.8207 - val_loss: 0.4936 - val_acc: 0.7566\n",
      "Epoch 6/10\n",
      "20000/20000 [==============================] - 1s 33us/step - loss: 0.3767 - acc: 0.8331 - val_loss: 0.4975 - val_acc: 0.7554\n",
      "Epoch 7/10\n",
      "20000/20000 [==============================] - 1s 36us/step - loss: 0.3574 - acc: 0.8456 - val_loss: 0.5037 - val_acc: 0.7546\n",
      "Epoch 8/10\n",
      "20000/20000 [==============================] - 1s 33us/step - loss: 0.3388 - acc: 0.8555 - val_loss: 0.5065 - val_acc: 0.7550\n",
      "Epoch 9/10\n",
      "20000/20000 [==============================] - 1s 35us/step - loss: 0.3208 - acc: 0.8645 - val_loss: 0.5142 - val_acc: 0.7542\n",
      "Epoch 10/10\n",
      "20000/20000 [==============================] - 1s 33us/step - loss: 0.3044 - acc: 0.8721 - val_loss: 0.5200 - val_acc: 0.7512\n"
     ]
    }
   ],
   "source": [
    "history = model.fit(x_train, y_train,\n",
    "                    epochs=10,\n",
    "                    batch_size=32,\n",
    "                    validation_split=0.2)"
   ]
  },
  {
   "cell_type": "code",
   "execution_count": 5,
   "metadata": {},
   "outputs": [
    {
     "name": "stdout",
     "output_type": "stream",
     "text": [
      "0.7512000203132629\n"
     ]
    }
   ],
   "source": [
    "print(history.history['val_acc'][-1])"
   ]
  }
 ],
 "metadata": {
  "kernelspec": {
   "display_name": "Python 3",
   "language": "python",
   "name": "python3"
  },
  "language_info": {
   "codemirror_mode": {
    "name": "ipython",
    "version": 3
   },
   "file_extension": ".py",
   "mimetype": "text/x-python",
   "name": "python",
   "nbconvert_exporter": "python",
   "pygments_lexer": "ipython3",
   "version": "3.7.7"
  }
 },
 "nbformat": 4,
 "nbformat_minor": 4
}
