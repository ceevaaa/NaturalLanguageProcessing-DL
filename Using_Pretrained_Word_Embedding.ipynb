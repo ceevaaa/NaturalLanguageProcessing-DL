{
 "cells": [
  {
   "cell_type": "code",
   "execution_count": 1,
   "metadata": {},
   "outputs": [
    {
     "name": "stderr",
     "output_type": "stream",
     "text": [
      "Using TensorFlow backend.\n"
     ]
    }
   ],
   "source": [
    "import os\n",
    "import numpy as np\n",
    "from keras.preprocessing.text import Tokenizer\n",
    "from keras.preprocessing.sequence import pad_sequences\n",
    "from keras.models import Sequential\n",
    "from keras.layers import Embedding, Flatten, Dense"
   ]
  },
  {
   "cell_type": "code",
   "execution_count": 2,
   "metadata": {},
   "outputs": [],
   "source": [
    "# Generating Labels out of the Training data\n",
    "\n",
    "imdb_dir = 'C:\\\\Users\\\\Ceeva\\\\Desktop\\\\Github\\\\TextAndSequence-DeepLearning\\\\aclImdb'\n",
    "train_dir = os.path.join(imdb_dir, 'train')\n",
    "labels = []\n",
    "texts = []\n",
    "for label_type in ['neg', 'pos']:\n",
    "    dir_name = os.path.join(train_dir, label_type)\n",
    "    for fname in os.listdir(dir_name):\n",
    "        if fname[-4:] == '.txt':\n",
    "            f = open(os.path.join(dir_name, fname), encoding= 'utf8')\n",
    "            texts.append(f.read())\n",
    "            f.close()\n",
    "            if label_type == 'neg':\n",
    "                labels.append(0)\n",
    "            else:\n",
    "                labels.append(1)"
   ]
  },
  {
   "cell_type": "code",
   "execution_count": 3,
   "metadata": {},
   "outputs": [
    {
     "name": "stdout",
     "output_type": "stream",
     "text": [
      "Found 88582 unique tokens.\n",
      "Shape of data tensor: (25000, 100)\n",
      "Shape of label tensor: (25000,)\n"
     ]
    }
   ],
   "source": [
    "# Tokenizing the data\n",
    "\n",
    "maxlen = 100 # Cuts off reviews after 100 words\n",
    "training_samples = 200 # Train on 200 samples\n",
    "validation_samples = 10000 # Validate on 10000 samples\n",
    "max_words = 10000 # Consider only top 10000 words in the dataset\n",
    "\n",
    "tokenizer = Tokenizer(num_words=max_words)\n",
    "tokenizer.fit_on_texts(texts)\n",
    "sequences = tokenizer.texts_to_sequences(texts)\n",
    "word_index = tokenizer.word_index\n",
    "print('Found %s unique tokens.' % len(word_index))\n",
    "\n",
    "data = pad_sequences(sequences, maxlen=maxlen)\n",
    "\n",
    "labels = np.asarray(labels)\n",
    "print('Shape of data tensor:', data.shape)\n",
    "print('Shape of label tensor:', labels.shape)\n",
    "\n",
    "indices = np.arange(data.shape[0])\n",
    "np.random.shuffle(indices)\n",
    "data = data[indices]\n",
    "labels = labels[indices]\n",
    "\n",
    "x_train = data[:training_samples]\n",
    "y_train = labels[:training_samples]\n",
    "x_val = data[training_samples: training_samples + validation_samples]\n",
    "y_val = labels[training_samples: training_samples + validation_samples]"
   ]
  },
  {
   "cell_type": "code",
   "execution_count": 4,
   "metadata": {},
   "outputs": [
    {
     "name": "stdout",
     "output_type": "stream",
     "text": [
      "Found 400000 word vectors.\n"
     ]
    }
   ],
   "source": [
    "# Parsing the GloVe word-embeddings file\n",
    "\n",
    "glove_dir = 'C:\\\\Users\\\\Ceeva\\\\Desktop\\\\Github\\\\TextAndSequence-DeepLearning'\n",
    "embeddings_index = {}\n",
    "f = open(os.path.join(glove_dir, 'glove.6B.100d.txt'), encoding='utf8')\n",
    "\n",
    "for line in f:\n",
    "    values = line.split()\n",
    "    word = values[0]\n",
    "    coefs = np.asarray(values[1:], dtype='float32')\n",
    "    embeddings_index[word] = coefs\n",
    "\n",
    "f.close()\n",
    "print('Found {} word vectors.'.format(len(embeddings_index)))\n",
    "\n",
    "# Preparing the GloVe word-embeddings matrix\n",
    "\n",
    "embedding_dim = 100\n",
    "embedding_matrix = np.zeros((max_words, embedding_dim))\n",
    "for word, i in word_index.items():\n",
    "    if i < max_words:\n",
    "        embedding_vector = embeddings_index.get(word)\n",
    "        if embedding_vector is not None:\n",
    "            embedding_matrix[i] = embedding_vector"
   ]
  },
  {
   "cell_type": "code",
   "execution_count": 5,
   "metadata": {},
   "outputs": [
    {
     "name": "stdout",
     "output_type": "stream",
     "text": [
      "WARNING:tensorflow:From c:\\users\\ceeva\\appdata\\local\\programs\\python\\python37\\lib\\site-packages\\tensorflow_core\\python\\ops\\resource_variable_ops.py:1630: calling BaseResourceVariable.__init__ (from tensorflow.python.ops.resource_variable_ops) with constraint is deprecated and will be removed in a future version.\n",
      "Instructions for updating:\n",
      "If using Keras pass *_constraint arguments to layers.\n",
      "Model: \"sequential_1\"\n",
      "_________________________________________________________________\n",
      "Layer (type)                 Output Shape              Param #   \n",
      "=================================================================\n",
      "embedding_1 (Embedding)      (None, 100, 100)          1000000   \n",
      "_________________________________________________________________\n",
      "flatten_1 (Flatten)          (None, 10000)             0         \n",
      "_________________________________________________________________\n",
      "dense_1 (Dense)              (None, 32)                320032    \n",
      "_________________________________________________________________\n",
      "dense_2 (Dense)              (None, 1)                 33        \n",
      "=================================================================\n",
      "Total params: 1,320,065\n",
      "Trainable params: 320,065\n",
      "Non-trainable params: 1,000,000\n",
      "_________________________________________________________________\n"
     ]
    }
   ],
   "source": [
    "model = Sequential()\n",
    "model.add(Embedding(max_words, embedding_dim, input_length=maxlen))\n",
    "model.add(Flatten())\n",
    "model.add(Dense(32, activation='relu'))\n",
    "model.add(Dense(1, activation='sigmoid'))\n",
    "model.layers[0].set_weights([embedding_matrix])\n",
    "model.layers[0].trainable = False # Freezing to use the Pre-Trained Values\n",
    "\n",
    "model.summary()"
   ]
  },
  {
   "cell_type": "code",
   "execution_count": 6,
   "metadata": {
    "scrolled": true
   },
   "outputs": [
    {
     "name": "stdout",
     "output_type": "stream",
     "text": [
      "WARNING:tensorflow:From c:\\users\\ceeva\\appdata\\local\\programs\\python\\python37\\lib\\site-packages\\tensorflow_core\\python\\ops\\nn_impl.py:183: where (from tensorflow.python.ops.array_ops) is deprecated and will be removed in a future version.\n",
      "Instructions for updating:\n",
      "Use tf.where in 2.0, which has the same broadcast rule as np.where\n",
      "WARNING:tensorflow:From c:\\users\\ceeva\\appdata\\local\\programs\\python\\python37\\lib\\site-packages\\keras\\backend\\tensorflow_backend.py:422: The name tf.global_variables is deprecated. Please use tf.compat.v1.global_variables instead.\n",
      "\n",
      "Train on 200 samples, validate on 10000 samples\n",
      "Epoch 1/20\n",
      "200/200 [==============================] - 1s 3ms/step - loss: 1.6829 - acc: 0.4850 - val_loss: 0.7174 - val_acc: 0.5039\n",
      "Epoch 2/20\n",
      "200/200 [==============================] - 0s 2ms/step - loss: 0.5404 - acc: 0.7300 - val_loss: 0.7543 - val_acc: 0.5081\n",
      "Epoch 3/20\n",
      "200/200 [==============================] - 0s 2ms/step - loss: 0.3958 - acc: 0.8150 - val_loss: 0.7383 - val_acc: 0.5283\n",
      "Epoch 4/20\n",
      "200/200 [==============================] - 0s 2ms/step - loss: 0.2573 - acc: 0.9600 - val_loss: 0.9136 - val_acc: 0.5140\n",
      "Epoch 5/20\n",
      "200/200 [==============================] - 0s 2ms/step - loss: 0.3028 - acc: 0.9100 - val_loss: 0.9001 - val_acc: 0.5070\n",
      "Epoch 6/20\n",
      "200/200 [==============================] - 0s 2ms/step - loss: 0.1410 - acc: 0.9950 - val_loss: 0.8549 - val_acc: 0.5305\n",
      "Epoch 7/20\n",
      "200/200 [==============================] - 0s 2ms/step - loss: 0.1290 - acc: 0.9700 - val_loss: 0.8386 - val_acc: 0.5374\n",
      "Epoch 8/20\n",
      "200/200 [==============================] - 0s 2ms/step - loss: 0.0662 - acc: 1.0000 - val_loss: 0.7758 - val_acc: 0.5602\n",
      "Epoch 9/20\n",
      "200/200 [==============================] - 0s 2ms/step - loss: 0.0336 - acc: 1.0000 - val_loss: 0.8747 - val_acc: 0.5509\n",
      "Epoch 10/20\n",
      "200/200 [==============================] - 0s 2ms/step - loss: 0.1072 - acc: 0.9900 - val_loss: 0.7814 - val_acc: 0.5661\n",
      "Epoch 11/20\n",
      "200/200 [==============================] - 0s 2ms/step - loss: 0.0200 - acc: 1.0000 - val_loss: 0.8042 - val_acc: 0.5696\n",
      "Epoch 12/20\n",
      "200/200 [==============================] - 0s 2ms/step - loss: 0.0128 - acc: 1.0000 - val_loss: 1.0789 - val_acc: 0.5388\n",
      "Epoch 13/20\n",
      "200/200 [==============================] - 0s 2ms/step - loss: 0.0109 - acc: 1.0000 - val_loss: 0.8075 - val_acc: 0.5763\n",
      "Epoch 14/20\n",
      "200/200 [==============================] - 0s 2ms/step - loss: 0.0062 - acc: 1.0000 - val_loss: 0.8651 - val_acc: 0.5629\n",
      "Epoch 15/20\n",
      "200/200 [==============================] - 0s 2ms/step - loss: 0.0046 - acc: 1.0000 - val_loss: 1.0560 - val_acc: 0.5452\n",
      "Epoch 16/20\n",
      "200/200 [==============================] - 0s 2ms/step - loss: 0.1093 - acc: 0.9700 - val_loss: 1.9051 - val_acc: 0.5052\n",
      "Epoch 17/20\n",
      "200/200 [==============================] - 0s 2ms/step - loss: 0.0166 - acc: 0.9950 - val_loss: 0.9678 - val_acc: 0.5643\n",
      "Epoch 18/20\n",
      "200/200 [==============================] - 0s 2ms/step - loss: 0.0031 - acc: 1.0000 - val_loss: 0.8957 - val_acc: 0.5735\n",
      "Epoch 19/20\n",
      "200/200 [==============================] - 0s 2ms/step - loss: 0.0028 - acc: 1.0000 - val_loss: 0.9970 - val_acc: 0.5630\n",
      "Epoch 20/20\n",
      "200/200 [==============================] - 0s 2ms/step - loss: 0.0024 - acc: 1.0000 - val_loss: 0.9525 - val_acc: 0.5677\n"
     ]
    }
   ],
   "source": [
    "model.compile(optimizer='rmsprop',\n",
    "              loss='binary_crossentropy',\n",
    "              metrics=['acc'])\n",
    "\n",
    "history = model.fit(x_train, y_train,\n",
    "                    epochs=20,\n",
    "                    batch_size=32,\n",
    "                    validation_data=(x_val, y_val))\n",
    "\n",
    "model.save_weights('pre_trained_glove_model.h5')"
   ]
  },
  {
   "cell_type": "code",
   "execution_count": 7,
   "metadata": {},
   "outputs": [
    {
     "data": {
      "image/png": "[encoded data removed]",
      "text/plain": [
       "<Figure size 432x288 with 1 Axes>"
      ]
     },
     "metadata": {
      "needs_background": "light"
     },
     "output_type": "display_data"
    },
    {
     "data": {
      "image/png": "[encoded data removed]",
      "text/plain": [
       "<Figure size 432x288 with 1 Axes>"
      ]
     },
     "metadata": {
      "needs_background": "light"
     },
     "output_type": "display_data"
    }
   ],
   "source": [
    "import matplotlib.pyplot as plt\n",
    "\n",
    "acc = history.history['acc']\n",
    "val_acc = history.history['val_acc']\n",
    "loss = history.history['loss']\n",
    "val_loss = history.history['val_loss']\n",
    "epochs = range(1, len(acc) + 1)\n",
    "\n",
    "plt.plot(epochs, acc, 'co', label='Training acc')\n",
    "plt.plot(epochs, val_acc, 'b', label='Validation acc')\n",
    "plt.title('Training and validation accuracy')\n",
    "plt.legend()\n",
    "plt.figure()\n",
    "\n",
    "plt.plot(epochs, loss, 'co', label='Training loss')\n",
    "plt.plot(epochs, val_loss, 'b', label='Validation loss')\n",
    "plt.title('Training and validation loss')\n",
    "plt.legend()\n",
    "plt.show()"
   ]
  },
  {
   "cell_type": "code",
   "execution_count": 8,
   "metadata": {},
   "outputs": [
    {
     "name": "stdout",
     "output_type": "stream",
     "text": [
      "Model: \"sequential_2\"\n",
      "_________________________________________________________________\n",
      "Layer (type)                 Output Shape              Param #   \n",
      "=================================================================\n",
      "embedding_2 (Embedding)      (None, 100, 100)          1000000   \n",
      "_________________________________________________________________\n",
      "flatten_2 (Flatten)          (None, 10000)             0         \n",
      "_________________________________________________________________\n",
      "dense_3 (Dense)              (None, 32)                320032    \n",
      "_________________________________________________________________\n",
      "dense_4 (Dense)              (None, 1)                 33        \n",
      "=================================================================\n",
      "Total params: 1,320,065\n",
      "Trainable params: 1,320,065\n",
      "Non-trainable params: 0\n",
      "_________________________________________________________________\n"
     ]
    }
   ],
   "source": [
    "# Overfitting level 1000! Damn\n",
    "# So we now try without the pretrained Word Embeddings\n",
    "\n",
    "model = Sequential()\n",
    "model.add(Embedding(max_words, embedding_dim, input_length=maxlen))\n",
    "model.add(Flatten())\n",
    "model.add(Dense(32, activation='relu'))\n",
    "model.add(Dense(1, activation='sigmoid'))\n",
    "model.summary()"
   ]
  },
  {
   "cell_type": "code",
   "execution_count": 9,
   "metadata": {
    "scrolled": true
   },
   "outputs": [
    {
     "name": "stdout",
     "output_type": "stream",
     "text": [
      "Train on 200 samples, validate on 10000 samples\n",
      "Epoch 1/20\n",
      "200/200 [==============================] - 1s 3ms/step - loss: 0.6926 - acc: 0.4950 - val_loss: 0.6936 - val_acc: 0.5074\n",
      "Epoch 2/20\n",
      "200/200 [==============================] - 1s 3ms/step - loss: 0.4980 - acc: 0.9850 - val_loss: 0.6971 - val_acc: 0.5101\n",
      "Epoch 3/20\n",
      "200/200 [==============================] - 1s 3ms/step - loss: 0.2779 - acc: 1.0000 - val_loss: 0.7050 - val_acc: 0.5195\n",
      "Epoch 4/20\n",
      "200/200 [==============================] - 1s 3ms/step - loss: 0.1310 - acc: 0.9900 - val_loss: 0.7206 - val_acc: 0.5138\n",
      "Epoch 5/20\n",
      "200/200 [==============================] - 1s 3ms/step - loss: 0.0616 - acc: 1.0000 - val_loss: 0.7144 - val_acc: 0.5191\n",
      "Epoch 6/20\n",
      "200/200 [==============================] - 1s 3ms/step - loss: 0.0314 - acc: 1.0000 - val_loss: 0.7265 - val_acc: 0.5194\n",
      "Epoch 7/20\n",
      "200/200 [==============================] - 1s 3ms/step - loss: 0.0176 - acc: 1.0000 - val_loss: 0.7196 - val_acc: 0.5245\n",
      "Epoch 8/20\n",
      "200/200 [==============================] - 1s 3ms/step - loss: 0.0102 - acc: 1.0000 - val_loss: 0.7191 - val_acc: 0.5261\n",
      "Epoch 9/20\n",
      "200/200 [==============================] - 1s 3ms/step - loss: 0.0060 - acc: 1.0000 - val_loss: 0.7272 - val_acc: 0.5266\n",
      "Epoch 10/20\n",
      "200/200 [==============================] - 1s 3ms/step - loss: 0.0037 - acc: 1.0000 - val_loss: 0.7424 - val_acc: 0.5252\n",
      "Epoch 11/20\n",
      "200/200 [==============================] - 1s 3ms/step - loss: 0.0023 - acc: 1.0000 - val_loss: 0.7340 - val_acc: 0.5330\n",
      "Epoch 12/20\n",
      "200/200 [==============================] - 1s 3ms/step - loss: 0.0015 - acc: 1.0000 - val_loss: 0.7761 - val_acc: 0.5220\n",
      "Epoch 13/20\n",
      "200/200 [==============================] - 1s 3ms/step - loss: 8.9177e-04 - acc: 1.0000 - val_loss: 0.7753 - val_acc: 0.5236\n",
      "Epoch 14/20\n",
      "200/200 [==============================] - 1s 3ms/step - loss: 5.8339e-04 - acc: 1.0000 - val_loss: 0.7681 - val_acc: 0.5253\n",
      "Epoch 15/20\n",
      "200/200 [==============================] - 1s 3ms/step - loss: 3.8332e-04 - acc: 1.0000 - val_loss: 0.7821 - val_acc: 0.5238\n",
      "Epoch 16/20\n",
      "200/200 [==============================] - 1s 3ms/step - loss: 2.5238e-04 - acc: 1.0000 - val_loss: 0.7753 - val_acc: 0.5302\n",
      "Epoch 17/20\n",
      "200/200 [==============================] - 1s 3ms/step - loss: 1.6873e-04 - acc: 1.0000 - val_loss: 0.7974 - val_acc: 0.5259\n",
      "Epoch 18/20\n",
      "200/200 [==============================] - 1s 3ms/step - loss: 1.0762e-04 - acc: 1.0000 - val_loss: 0.8097 - val_acc: 0.5253\n",
      "Epoch 19/20\n",
      "200/200 [==============================] - 1s 3ms/step - loss: 7.2218e-05 - acc: 1.0000 - val_loss: 0.8103 - val_acc: 0.5254\n",
      "Epoch 20/20\n",
      "200/200 [==============================] - 1s 3ms/step - loss: 4.7743e-05 - acc: 1.0000 - val_loss: 0.8256 - val_acc: 0.5250\n"
     ]
    }
   ],
   "source": [
    "model.compile(optimizer='rmsprop',\n",
    "              loss='binary_crossentropy',\n",
    "              metrics=['acc'])\n",
    "\n",
    "history = model.fit(x_train, y_train,\n",
    "                    epochs=20,\n",
    "                    batch_size=32,\n",
    "                    validation_data=(x_val, y_val))"
   ]
  },
  {
   "cell_type": "code",
   "execution_count": 10,
   "metadata": {},
   "outputs": [
    {
     "data": {
      "image/png": "[encoded data removed]",
      "text/plain": [
       "<Figure size 432x288 with 1 Axes>"
      ]
     },
     "metadata": {
      "needs_background": "light"
     },
     "output_type": "display_data"
    },
    {
     "data": {
      "image/png": "[encoded data removed]",
      "text/plain": [
       "<Figure size 432x288 with 1 Axes>"
      ]
     },
     "metadata": {
      "needs_background": "light"
     },
     "output_type": "display_data"
    }
   ],
   "source": [
    "acc = history.history['acc']\n",
    "val_acc = history.history['val_acc']\n",
    "loss = history.history['loss']\n",
    "val_loss = history.history['val_loss']\n",
    "epochs = range(1, len(acc) + 1)\n",
    "\n",
    "plt.plot(epochs, acc, 'co', label='Training acc')\n",
    "plt.plot(epochs, val_acc, 'b', label='Validation acc')\n",
    "plt.title('Training and validation accuracy')\n",
    "plt.legend()\n",
    "plt.figure()\n",
    "\n",
    "plt.plot(epochs, loss, 'co', label='Training loss')\n",
    "plt.plot(epochs, val_loss, 'b', label='Validation loss')\n",
    "plt.title('Training and validation loss')\n",
    "plt.legend()\n",
    "plt.show()"
   ]
  },
  {
   "cell_type": "code",
   "execution_count": 11,
   "metadata": {},
   "outputs": [],
   "source": [
    "# Generating the Labels for test dataset\n",
    "test_dir = os.path.join(imdb_dir, 'test')\n",
    "labels = []\n",
    "texts = []\n",
    "for label_type in ['neg', 'pos']:\n",
    "    dir_name = os.path.join(test_dir, label_type)\n",
    "    for fname in sorted(os.listdir(dir_name)):\n",
    "        if fname[-4:] == '.txt':\n",
    "            f = open(os.path.join(dir_name, fname), encoding='utf8')\n",
    "            texts.append(f.read())\n",
    "            f.close()\n",
    "            if label_type == 'neg':\n",
    "                labels.append(0)\n",
    "            else:\n",
    "                labels.append(1)\n",
    "\n",
    "sequences = tokenizer.texts_to_sequences(texts)\n",
    "x_test = pad_sequences(sequences, maxlen=maxlen)\n",
    "y_test = np.asarray(labels)"
   ]
  },
  {
   "cell_type": "code",
   "execution_count": 12,
   "metadata": {},
   "outputs": [
    {
     "name": "stdout",
     "output_type": "stream",
     "text": [
      "25000/25000 [==============================] - 1s 45us/step\n",
      "[0.951253497467041, 0.5694400072097778]\n"
     ]
    }
   ],
   "source": [
    "model.load_weights('pre_trained_glove_model.h5')\n",
    "print(model.evaluate(x_test, y_test))"
   ]
  }
 ],
 "metadata": {
  "kernelspec": {
   "display_name": "Python 3",
   "language": "python",
   "name": "python3"
  },
  "language_info": {
   "codemirror_mode": {
    "name": "ipython",
    "version": 3
   },
   "file_extension": ".py",
   "mimetype": "text/x-python",
   "name": "python",
   "nbconvert_exporter": "python",
   "pygments_lexer": "ipython3",
   "version": "3.7.7"
  }
 },
 "nbformat": 4,
 "nbformat_minor": 4
}
